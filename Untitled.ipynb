{
 "cells": [
  {
   "cell_type": "code",
   "execution_count": 2,
   "metadata": {},
   "outputs": [],
   "source": [
    "from ABTesting import ABTestingController"
   ]
  },
  {
   "cell_type": "code",
   "execution_count": 4,
   "metadata": {},
   "outputs": [],
   "source": [
    "import logging\n",
    "from typing import Union, Dict\n",
    "\n",
    "from crc32c import crc32c\n",
    "\n",
    "logger = logging.getLogger(__name__)\n",
    "\n",
    "\n",
    "def get_modulo_value(experiment, user_id):\n",
    "    # type: (str, Union[str, int]) -> int\n",
    "    return crc32c(str(user_id).encode(), crc32c(experiment.encode())) % 100\n",
    "\n",
    "\n",
    "def match_user_cohort(\n",
    "    experiment_config,\n",
    "    user_id,\n",
    "    user_profile\n",
    "):\n",
    "    # type: (Dict, Union[str, int], Dict[str, str]) -> str\n",
    "    user_segment_num = get_modulo_value(experiment_config['name'], user_id)\n",
    "    allocated_cohort = 'control'\n",
    "    for cohort in experiment_config['cohorts']:\n",
    "        for force_include_key, force_include_val in cohort.get('force_include', {}).items():\n",
    "            if force_include_key in user_profile and user_profile[force_include_key] in force_include_val:\n",
    "                return cohort['name']\n",
    "        if allocated_cohort == 'control':\n",
    "            for allocation in cohort.get('allocation', []):\n",
    "                if allocation[0] <= user_segment_num < allocation[1]:\n",
    "                    allocated_cohort = cohort['name']\n",
    "                    break\n",
    "    return allocated_cohort\n",
    "\n",
    "\n",
    "class ABTestingController(object):\n",
    "    def __init__(self, config, user_id, user_profile):\n",
    "        self.experiment_configs = {\n",
    "            experiment_config['name']: experiment_config\n",
    "            for experiment_config in config['experiments']\n",
    "        }\n",
    "        self.user_id = user_id\n",
    "        self.user_profile = user_profile\n",
    "        self.matched_cohorts = {}\n",
    "\n",
    "    def get_cohort(self, experiment_name):\n",
    "        # type: (str) -> str\n",
    "        if experiment_name not in self.matched_cohorts:\n",
    "            if experiment_name in self.experiment_configs:\n",
    "                self.matched_cohorts[experiment_name] = match_user_cohort(\n",
    "                    self.experiment_configs[experiment_name],\n",
    "                    self.user_id,\n",
    "                    self.user_profile\n",
    "                )\n",
    "            else:\n",
    "                logger.info('unrecognized ab testing experiment name: {}'.format(experiment_name))\n",
    "                self.matched_cohorts[experiment_name] = 'control'\n",
    "        return self.matched_cohorts[experiment_name]\n",
    "\n",
    "    def has_experiment(self, experiment_name):\n",
    "        return experiment_name in self.experiment_configs\n",
    "\n"
   ]
  },
  {
   "cell_type": "code",
   "execution_count": 5,
   "metadata": {},
   "outputs": [
    {
     "ename": "NameError",
     "evalue": "name 'user' is not defined",
     "output_type": "error",
     "traceback": [
      "\u001b[0;31m---------------------------------------------------------------------------\u001b[0m",
      "\u001b[0;31mNameError\u001b[0m                                 Traceback (most recent call last)",
      "\u001b[0;32m<ipython-input-5-d5aa67e777be>\u001b[0m in \u001b[0;36m<module>\u001b[0;34m\u001b[0m\n\u001b[1;32m      1\u001b[0m user_profile = {\n\u001b[0;32m----> 2\u001b[0;31m     \u001b[0;34m'persona'\u001b[0m\u001b[0;34m:\u001b[0m \u001b[0muser\u001b[0m\u001b[0;34m.\u001b[0m\u001b[0mpersona\u001b[0m\u001b[0;34m,\u001b[0m\u001b[0;34m\u001b[0m\u001b[0m\n\u001b[0m\u001b[1;32m      3\u001b[0m     \u001b[0;34m'employee'\u001b[0m\u001b[0;34m:\u001b[0m \u001b[0muser\u001b[0m\u001b[0;34m.\u001b[0m\u001b[0misEmployee\u001b[0m\u001b[0;34m,\u001b[0m\u001b[0;34m\u001b[0m\u001b[0m\n\u001b[1;32m      4\u001b[0m }\n",
      "\u001b[0;31mNameError\u001b[0m: name 'user' is not defined"
     ]
    }
   ],
   "source": [
    "user_profile = {\n",
    "    'persona': user.persona,\n",
    "    'employee': user.isEmployee,\n",
    "}"
   ]
  },
  {
   "cell_type": "code",
   "execution_count": null,
   "metadata": {},
   "outputs": [],
   "source": []
  }
 ],
 "metadata": {
  "kernelspec": {
   "display_name": "Python [conda env:dsi] *",
   "language": "python",
   "name": "conda-env-dsi-py"
  },
  "language_info": {
   "codemirror_mode": {
    "name": "ipython",
    "version": 3
   },
   "file_extension": ".py",
   "mimetype": "text/x-python",
   "name": "python",
   "nbconvert_exporter": "python",
   "pygments_lexer": "ipython3",
   "version": "3.7.0"
  }
 },
 "nbformat": 4,
 "nbformat_minor": 4
}
